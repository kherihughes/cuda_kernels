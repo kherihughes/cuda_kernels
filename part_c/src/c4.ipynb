{
  "cells": [
    {
      "cell_type": "code",
      "execution_count": 1,
      "metadata": {
        "id": "uAyT5yxZIK1F"
      },
      "outputs": [],
      "source": [
        "# Required packages\n",
        "# !pip install triton\n",
        "import torch\n",
        "import triton\n",
        "import triton.language as tl\n",
        "import time\n",
        "import matplotlib.pyplot as plt"
      ]
    },
    {
      "cell_type": "code",
      "execution_count": 2,
      "metadata": {
        "id": "OnuMS4X6ILps"
      },
      "outputs": [],
      "source": [
        "@triton.jit\n",
        "def my_triton_kernel(\n",
        "    I_ptr, F_ptr, O_ptr,\n",
        "    C, H, W, FH, FW,\n",
        "    stride_h, stride_w, pad_h, pad_w,\n",
        "    BLOCK_H: tl.constexpr, BLOCK_W: tl.constexpr,\n",
        "):\n",
        "    batch_idx = tl.program_id(0)\n",
        "    x = tl.arange(0, BLOCK_W) + tl.program_id(1) * BLOCK_W\n",
        "    y = tl.arange(0, BLOCK_H) + tl.program_id(2) * BLOCK_H\n",
        "\n",
        "    mask_x = x < W\n",
        "    mask_y = y < H\n",
        "    acc = tl.zeros((BLOCK_H, BLOCK_W), dtype=tl.float32)\n",
        "\n",
        "    for c in range(C):\n",
        "        for i in range(FH):\n",
        "            for j in range(FW):\n",
        "                xi = x * stride_w + j - pad_w\n",
        "                yi = y * stride_h + i - pad_h\n",
        "                valid_xi = (xi >= 0) & (xi < W)\n",
        "                valid_yi = (yi >= 0) & (yi < H)\n",
        "                mask_valid = valid_xi[None, :] & valid_yi[:, None]\n",
        "\n",
        "                input_ptrs = I_ptr + batch_idx * C * H * W + c * H * W + yi[:, None] * W + xi[None, :]\n",
        "                filter_ptr = F_ptr + c * FH * FW + i * FW + j\n",
        "\n",
        "                input_vals = tl.load(input_ptrs, mask=mask_valid, other=0.0)\n",
        "                filter_val = tl.load(filter_ptr)\n",
        "                acc += input_vals * filter_val\n",
        "\n",
        "    output_ptrs = O_ptr + batch_idx * H * W + y[:, None] * W + x[None, :]\n",
        "    tl.store(output_ptrs, acc, mask=mask_x[None, :] & mask_y[:, None])\n",
        "\n",
        "\n",
        "def my_conv2d(I, F, stride_h=1, stride_w=1, padding=(0, 0)):\n",
        "    B, C, H, W = I.shape\n",
        "    K, _, FH, FW = F.shape\n",
        "    pad_h, pad_w = padding\n",
        "\n",
        "    OH = (H + 2 * pad_h - FH) // stride_h + 1\n",
        "    OW = (W + 2 * pad_w - FW) // stride_w + 1\n",
        "    O = torch.empty((B, K, OH, OW), device=I.device, dtype=I.dtype)\n",
        "\n",
        "    grid = (B, (OW + 31) // 32, (OH + 31) // 32)\n",
        "    my_triton_kernel[grid](\n",
        "        I, F, O,\n",
        "        C, OH, OW, FH, FW,\n",
        "        stride_h, stride_w, pad_h, pad_w,\n",
        "        BLOCK_H=32, BLOCK_W=32\n",
        "    )\n",
        "    return O\n"
      ]
    },
    {
      "cell_type": "code",
      "execution_count": 3,
      "metadata": {
        "colab": {
          "base_uri": "https://localhost:8080/"
        },
        "id": "lEypikOlIPiM",
        "outputId": "99df0690-9444-4293-eec0-20fa78d63fa4"
      },
      "outputs": [
        {
          "name": "stdout",
          "output_type": "stream",
          "text": [
            "C4_execution_time: 8.621 ms\n"
          ]
        }
      ],
      "source": [
        "# Generate input and filter for C4\n",
        "I = torch.randn((1, 3, 1024, 1024), device='cuda', dtype=torch.float32)\n",
        "F = torch.randn((64, 3, 3, 3), device='cuda', dtype=torch.float32)\n",
        "\n",
        "# Warm-up run to stabilize timings\n",
        "triton_output = my_conv2d(I, F, stride_h=1, stride_w=1, padding=(1, 1))\n",
        "torch.cuda.synchronize()\n",
        "\n",
        "# Measure Triton convolution execution time after warm-up\n",
        "torch.cuda.synchronize()\n",
        "start_time = time.time()\n",
        "triton_output = my_conv2d(I, F, stride_h=1, stride_w=1, padding=(1, 1))\n",
        "torch.cuda.synchronize()\n",
        "end_time = time.time()\n",
        "\n",
        "# Print the execution time in milliseconds\n",
        "execution_time = (end_time - start_time) * 1000\n",
        "print(f\"C4_execution_time: {execution_time:.3f} ms\")\n"
      ]
    },
    {
      "cell_type": "code",
      "execution_count": 4,
      "metadata": {
        "colab": {
          "base_uri": "https://localhost:8080/",
          "height": 623
        },
        "id": "4rZEc-xtITU3",
        "outputId": "b6e90128-34b5-472e-a910-e90f7838a880"
      },
      "outputs": [
        {
          "name": "stdout",
          "output_type": "stream",
          "text": [
            "Maximum absolute error: 0.000000\n",
            "Mean absolute error: 0.000000\n"
          ]
        },
        {
          "data": {
            "image/png": "[encoded data removed]",
            "text/plain": [
              "<Figure size 1500x500 with 3 Axes>"
            ]
          },
          "metadata": {},
          "output_type": "display_data"
        },
        {
          "name": "stdout",
          "output_type": "stream",
          "text": [
            "\n",
            "Performance Comparison on 224x224 images:\n",
            "Triton implementation: 0.04 ms per batch\n",
            "PyTorch implementation: 0.48 ms per batch\n",
            "Speedup: 11.99x\n"
          ]
        }
      ],
      "source": [
        "# Edge Detection Kernel\n",
        "def create_edge_detection_kernel():\n",
        "    kernel = torch.tensor([\n",
        "        [-1, -1, -1],\n",
        "        [-1,  8, -1],\n",
        "        [-1, -1, -1]\n",
        "    ], dtype=torch.float32).cuda()\n",
        "    return kernel.view(1, 1, 3, 3)\n",
        "\n",
        "# Create a test image with a square in the middle\n",
        "def create_test_image(size=32):\n",
        "    image = torch.zeros((size, size), dtype=torch.float32)\n",
        "    center = size // 4\n",
        "    image[center:3*center, center:3*center] = 1.0\n",
        "    image += torch.randn_like(image) * 0.1  # Add some noise\n",
        "    return image.clamp(0, 1)\n",
        "\n",
        "# Generate test data\n",
        "test_image = create_test_image(32)\n",
        "input_tensor = test_image.view(1, 1, 32, 32).cuda()\n",
        "kernel_tensor = create_edge_detection_kernel()\n",
        "\n",
        "# Triton convolution with padding\n",
        "triton_output = my_conv2d(input_tensor, kernel_tensor, stride_h=1, stride_w=1, padding=(1, 1))\n",
        "\n",
        "# PyTorch convolution with the same padding\n",
        "torch_output = torch.nn.functional.conv2d(input_tensor, kernel_tensor, stride=1, padding=1)\n",
        "\n",
        "# Calculate error\n",
        "max_error = torch.max(torch.abs(triton_output - torch_output))\n",
        "mean_error = torch.mean(torch.abs(triton_output - torch_output))\n",
        "\n",
        "print(f\"Maximum absolute error: {max_error:.6f}\")\n",
        "print(f\"Mean absolute error: {mean_error:.6f}\")\n",
        "\n",
        "plt.figure(figsize=(15, 5))\n",
        "plt.subplot(131)\n",
        "plt.imshow(test_image.cpu().numpy(), cmap='gray')\n",
        "plt.title('Original Image')\n",
        "plt.axis('off')\n",
        "\n",
        "plt.subplot(132)\n",
        "plt.imshow(triton_output[0, 0].cpu().numpy(), cmap='gray')\n",
        "plt.title('Triton Convolution')\n",
        "plt.axis('off')\n",
        "\n",
        "plt.subplot(133)\n",
        "plt.imshow(torch_output[0, 0].cpu().numpy(), cmap='gray')\n",
        "plt.title('PyTorch Convolution')\n",
        "plt.axis('off')\n",
        "plt.tight_layout()\n",
        "plt.show()\n",
        "\n",
        "input_large = torch.randn(16, 3, 224, 224, device='cuda')\n",
        "kernel_large = torch.randn(64, 3, 3, 3, device='cuda')\n",
        "\n",
        "# Warm-up runs\n",
        "for _ in range(10):\n",
        "    triton_output = my_conv2d(input_large, kernel_large, stride_h=1, stride_w=1, padding=(1, 1))\n",
        "    torch_output = torch.nn.functional.conv2d(input_large, kernel_large, stride=1, padding=1)\n",
        "\n",
        "# Timing Triton implementation\n",
        "torch.cuda.synchronize()\n",
        "start = torch.cuda.Event(enable_timing=True)\n",
        "end = torch.cuda.Event(enable_timing=True)\n",
        "\n",
        "start.record()\n",
        "for _ in range(100):\n",
        "    triton_output = my_conv2d(input_large, kernel_large, stride_h=1, stride_w=1, padding=(1, 1))\n",
        "end.record()\n",
        "torch.cuda.synchronize()\n",
        "triton_time = start.elapsed_time(end) / 100\n",
        "\n",
        "# Timing PyTorch implementation\n",
        "start.record()\n",
        "for _ in range(100):\n",
        "    torch_output = torch.nn.functional.conv2d(input_large, kernel_large, stride=1, padding=1)\n",
        "end.record()\n",
        "torch.cuda.synchronize()\n",
        "torch_time = start.elapsed_time(end) / 100\n",
        "\n",
        "print(\"\\nPerformance Comparison on 224x224 images:\")\n",
        "print(f\"Triton implementation: {triton_time:.2f} ms per batch\")\n",
        "print(f\"PyTorch implementation: {torch_time:.2f} ms per batch\")\n",
        "print(f\"Speedup: {torch_time/triton_time:.2f}x\")\n"
      ]
    }
  ],
  "metadata": {
    "accelerator": "GPU",
    "colab": {
      "gpuType": "T4",
      "provenance": []
    },
    "kernelspec": {
      "display_name": "venv",
      "language": "python",
      "name": "python3"
    },
    "language_info": {
      "codemirror_mode": {
        "name": "ipython",
        "version": 3
      },
      "file_extension": ".py",
      "mimetype": "text/x-python",
      "name": "python",
      "nbconvert_exporter": "python",
      "pygments_lexer": "ipython3",
      "version": "3.10.12"
    }
  },
  "nbformat": 4,
  "nbformat_minor": 0
}
